{
 "cells": [
  {
   "cell_type": "markdown",
   "id": "0a206dbf-5047-4d18-ae44-bc99b6406785",
   "metadata": {},
   "source": [
    "#  04_model_training.ipynb\n",
    "## Train a Random Forest model using terrain features (DEM, Slope, Aspect)\n"
   ]
  },
  {
   "cell_type": "markdown",
   "id": "9c5da87f-9dcf-4ab3-aca7-e7a6be498188",
   "metadata": {},
   "source": [
    "# v1 and v2\n",
    "## v1-Too safe — predicts only non-fire everywhere (100% non-fire bias).\n",
    "## v2-Balanced — detects some fires with improved precision, but still misses many fires"
   ]
  },
  {
   "cell_type": "markdown",
   "id": "6f4e6863-3599-435a-8892-da16c7385132",
   "metadata": {},
   "source": [
    "## Step 1: Import required libraries\n"
   ]
  },
  {
   "cell_type": "code",
   "execution_count": 1,
   "id": "ae589802-f7d0-48a9-859f-d2de50b43c73",
   "metadata": {},
   "outputs": [],
   "source": [
    "import numpy as np\n",
    "from sklearn.ensemble import RandomForestClassifier\n",
    "from sklearn.model_selection import train_test_split\n",
    "from sklearn.metrics import classification_report, confusion_matrix\n",
    "import joblib"
   ]
  },
  {
   "cell_type": "markdown",
   "id": "639489e5-a0bc-42da-8396-bc0ce65607cc",
   "metadata": {},
   "source": [
    "## Step 2: Load feature matrix and labels"
   ]
  },
  {
   "cell_type": "code",
   "execution_count": 2,
   "id": "bec37070-bbe3-49bc-945b-ff979e7ab030",
   "metadata": {},
   "outputs": [],
   "source": [
    "X = np.load('C:/Users/Siddharth Tomar/forest-fire-simulation/data/processed/X_train_final.npy')  # Shape: (n_samples, 3)\n",
    "y = np.load('C:/Users/Siddharth Tomar/forest-fire-simulation/data/processed/y_train_final.npy')  # Shape: (n_samples,)\n"
   ]
  },
  {
   "cell_type": "code",
   "execution_count": 3,
   "id": "e26297d6-3690-4a8c-85ae-b747326708e1",
   "metadata": {},
   "outputs": [
    {
     "name": "stdout",
     "output_type": "stream",
     "text": [
      " Input Feature Matrix Shape: (379135, 3)\n",
      " Labels Shape: (379135,)\n",
      " Fire Pixels: 11957\n",
      " Non-Fire Pixels: 367178\n"
     ]
    }
   ],
   "source": [
    "print(f\" Input Feature Matrix Shape: {X.shape}\")\n",
    "print(f\" Labels Shape: {y.shape}\")\n",
    "print(f\" Fire Pixels: {np.sum(y == 1)}\")\n",
    "print(f\" Non-Fire Pixels: {np.sum(y == 0)}\")\n"
   ]
  },
  {
   "cell_type": "markdown",
   "id": "b71895fd-5eb3-4c89-aa7c-f58344212b19",
   "metadata": {},
   "source": [
    "## Step 3: Split into training and testing sets"
   ]
  },
  {
   "cell_type": "code",
   "execution_count": 5,
   "id": "1f3d8050-c34d-429e-89fc-1b56b7c9635b",
   "metadata": {},
   "outputs": [],
   "source": [
    "X_train, X_test, y_train, y_test = train_test_split(\n",
    "    X, y, test_size=0.2, random_state=42, stratify=y\n",
    ")"
   ]
  },
  {
   "cell_type": "markdown",
   "id": "a13a1717-fc60-48b9-8f4f-bfcde6564145",
   "metadata": {},
   "source": [
    "##  Step 4: Initialize and train Random Forest"
   ]
  },
  {
   "cell_type": "code",
   "execution_count": 18,
   "id": "7c70c053-35e6-480e-b21f-8aa91470a62d",
   "metadata": {},
   "outputs": [
    {
     "name": "stdout",
     "output_type": "stream",
     "text": [
      "✅ Model training complete!\n"
     ]
    }
   ],
   "source": [
    "clf = RandomForestClassifier(\n",
    "    n_estimators=200,         # more trees → better generalization\n",
    "    max_depth=15,             # limit depth to reduce overfitting\n",
    "    min_samples_split=5,      # avoid splits on tiny noisy subsets\n",
    "    min_samples_leaf=3,       # same idea\n",
    "    random_state=42,\n",
    "    n_jobs=-1                 # use all cores\n",
    ")\n",
    "\n",
    "clf.fit(X_train, y_train)\n",
    "print(\"✅ Model training complete!\")\n"
   ]
  },
  {
   "cell_type": "markdown",
   "id": "29dc0e7b-1e45-4395-a0b4-8640560de298",
   "metadata": {},
   "source": [
    "## Step 5: Evaluate model on test set"
   ]
  },
  {
   "cell_type": "code",
   "execution_count": null,
   "id": "9089faed-b8e1-4dd8-8a29-09c0a729d632",
   "metadata": {},
   "outputs": [],
   "source": [
    "y_pred = clf.predict(X_test)\n",
    "\n",
    "print(\"\\n📈 Classification Report:\")\n",
    "print(classification_report(y_test, y_pred))\n",
    "\n",
    "print(\"🧾 Confusion Matrix:\")\n",
    "print(confusion_matrix(y_test, y_pred))"
   ]
  },
  {
   "cell_type": "markdown",
   "id": "a889b623-03f6-43a3-8452-9819d20b9f26",
   "metadata": {},
   "source": [
    "## Step 6: Save the trained model to disk"
   ]
  },
  {
   "cell_type": "code",
   "execution_count": 17,
   "id": "265a4af0-c5fa-4217-8970-81d3de18e135",
   "metadata": {},
   "outputs": [
    {
     "name": "stdout",
     "output_type": "stream",
     "text": [
      "Model saved to model/training/random_forest_terrain_only.pkl\n"
     ]
    }
   ],
   "source": [
    "joblib.dump(clf, 'C:/Users/Siddharth Tomar/forest-fire-simulation/model/training/random_forest_terrain_only_v2_balanced.pkl')\n",
    "print(\"Model saved to model/training/random_forest_terrain_only.pkl\")"
   ]
  },
  {
   "cell_type": "markdown",
   "id": "b7b62eff-ebe7-43c2-87fd-920a6ac33a9d",
   "metadata": {},
   "source": [
    "# Above is the basic code to train the bot now below i will just update the code to test different ways to updaet the code  "
   ]
  },
  {
   "cell_type": "markdown",
   "id": "82839e65-c9f1-4b2e-8338-f33f8e2e9000",
   "metadata": {},
   "source": [
    "# v3\n",
    "## Aggressive — catches most fires but creates too many false fire alarms"
   ]
  },
  {
   "cell_type": "code",
   "execution_count": 21,
   "id": "7b055509-5054-46d3-8d4b-0ad4703aa5b1",
   "metadata": {},
   "outputs": [
    {
     "data": {
      "text/html": [
       "<style>#sk-container-id-1 {\n",
       "  /* Definition of color scheme common for light and dark mode */\n",
       "  --sklearn-color-text: black;\n",
       "  --sklearn-color-line: gray;\n",
       "  /* Definition of color scheme for unfitted estimators */\n",
       "  --sklearn-color-unfitted-level-0: #fff5e6;\n",
       "  --sklearn-color-unfitted-level-1: #f6e4d2;\n",
       "  --sklearn-color-unfitted-level-2: #ffe0b3;\n",
       "  --sklearn-color-unfitted-level-3: chocolate;\n",
       "  /* Definition of color scheme for fitted estimators */\n",
       "  --sklearn-color-fitted-level-0: #f0f8ff;\n",
       "  --sklearn-color-fitted-level-1: #d4ebff;\n",
       "  --sklearn-color-fitted-level-2: #b3dbfd;\n",
       "  --sklearn-color-fitted-level-3: cornflowerblue;\n",
       "\n",
       "  /* Specific color for light theme */\n",
       "  --sklearn-color-text-on-default-background: var(--sg-text-color, var(--theme-code-foreground, var(--jp-content-font-color1, black)));\n",
       "  --sklearn-color-background: var(--sg-background-color, var(--theme-background, var(--jp-layout-color0, white)));\n",
       "  --sklearn-color-border-box: var(--sg-text-color, var(--theme-code-foreground, var(--jp-content-font-color1, black)));\n",
       "  --sklearn-color-icon: #696969;\n",
       "\n",
       "  @media (prefers-color-scheme: dark) {\n",
       "    /* Redefinition of color scheme for dark theme */\n",
       "    --sklearn-color-text-on-default-background: var(--sg-text-color, var(--theme-code-foreground, var(--jp-content-font-color1, white)));\n",
       "    --sklearn-color-background: var(--sg-background-color, var(--theme-background, var(--jp-layout-color0, #111)));\n",
       "    --sklearn-color-border-box: var(--sg-text-color, var(--theme-code-foreground, var(--jp-content-font-color1, white)));\n",
       "    --sklearn-color-icon: #878787;\n",
       "  }\n",
       "}\n",
       "\n",
       "#sk-container-id-1 {\n",
       "  color: var(--sklearn-color-text);\n",
       "}\n",
       "\n",
       "#sk-container-id-1 pre {\n",
       "  padding: 0;\n",
       "}\n",
       "\n",
       "#sk-container-id-1 input.sk-hidden--visually {\n",
       "  border: 0;\n",
       "  clip: rect(1px 1px 1px 1px);\n",
       "  clip: rect(1px, 1px, 1px, 1px);\n",
       "  height: 1px;\n",
       "  margin: -1px;\n",
       "  overflow: hidden;\n",
       "  padding: 0;\n",
       "  position: absolute;\n",
       "  width: 1px;\n",
       "}\n",
       "\n",
       "#sk-container-id-1 div.sk-dashed-wrapped {\n",
       "  border: 1px dashed var(--sklearn-color-line);\n",
       "  margin: 0 0.4em 0.5em 0.4em;\n",
       "  box-sizing: border-box;\n",
       "  padding-bottom: 0.4em;\n",
       "  background-color: var(--sklearn-color-background);\n",
       "}\n",
       "\n",
       "#sk-container-id-1 div.sk-container {\n",
       "  /* jupyter's `normalize.less` sets `[hidden] { display: none; }`\n",
       "     but bootstrap.min.css set `[hidden] { display: none !important; }`\n",
       "     so we also need the `!important` here to be able to override the\n",
       "     default hidden behavior on the sphinx rendered scikit-learn.org.\n",
       "     See: https://github.com/scikit-learn/scikit-learn/issues/21755 */\n",
       "  display: inline-block !important;\n",
       "  position: relative;\n",
       "}\n",
       "\n",
       "#sk-container-id-1 div.sk-text-repr-fallback {\n",
       "  display: none;\n",
       "}\n",
       "\n",
       "div.sk-parallel-item,\n",
       "div.sk-serial,\n",
       "div.sk-item {\n",
       "  /* draw centered vertical line to link estimators */\n",
       "  background-image: linear-gradient(var(--sklearn-color-text-on-default-background), var(--sklearn-color-text-on-default-background));\n",
       "  background-size: 2px 100%;\n",
       "  background-repeat: no-repeat;\n",
       "  background-position: center center;\n",
       "}\n",
       "\n",
       "/* Parallel-specific style estimator block */\n",
       "\n",
       "#sk-container-id-1 div.sk-parallel-item::after {\n",
       "  content: \"\";\n",
       "  width: 100%;\n",
       "  border-bottom: 2px solid var(--sklearn-color-text-on-default-background);\n",
       "  flex-grow: 1;\n",
       "}\n",
       "\n",
       "#sk-container-id-1 div.sk-parallel {\n",
       "  display: flex;\n",
       "  align-items: stretch;\n",
       "  justify-content: center;\n",
       "  background-color: var(--sklearn-color-background);\n",
       "  position: relative;\n",
       "}\n",
       "\n",
       "#sk-container-id-1 div.sk-parallel-item {\n",
       "  display: flex;\n",
       "  flex-direction: column;\n",
       "}\n",
       "\n",
       "#sk-container-id-1 div.sk-parallel-item:first-child::after {\n",
       "  align-self: flex-end;\n",
       "  width: 50%;\n",
       "}\n",
       "\n",
       "#sk-container-id-1 div.sk-parallel-item:last-child::after {\n",
       "  align-self: flex-start;\n",
       "  width: 50%;\n",
       "}\n",
       "\n",
       "#sk-container-id-1 div.sk-parallel-item:only-child::after {\n",
       "  width: 0;\n",
       "}\n",
       "\n",
       "/* Serial-specific style estimator block */\n",
       "\n",
       "#sk-container-id-1 div.sk-serial {\n",
       "  display: flex;\n",
       "  flex-direction: column;\n",
       "  align-items: center;\n",
       "  background-color: var(--sklearn-color-background);\n",
       "  padding-right: 1em;\n",
       "  padding-left: 1em;\n",
       "}\n",
       "\n",
       "\n",
       "/* Toggleable style: style used for estimator/Pipeline/ColumnTransformer box that is\n",
       "clickable and can be expanded/collapsed.\n",
       "- Pipeline and ColumnTransformer use this feature and define the default style\n",
       "- Estimators will overwrite some part of the style using the `sk-estimator` class\n",
       "*/\n",
       "\n",
       "/* Pipeline and ColumnTransformer style (default) */\n",
       "\n",
       "#sk-container-id-1 div.sk-toggleable {\n",
       "  /* Default theme specific background. It is overwritten whether we have a\n",
       "  specific estimator or a Pipeline/ColumnTransformer */\n",
       "  background-color: var(--sklearn-color-background);\n",
       "}\n",
       "\n",
       "/* Toggleable label */\n",
       "#sk-container-id-1 label.sk-toggleable__label {\n",
       "  cursor: pointer;\n",
       "  display: block;\n",
       "  width: 100%;\n",
       "  margin-bottom: 0;\n",
       "  padding: 0.5em;\n",
       "  box-sizing: border-box;\n",
       "  text-align: center;\n",
       "}\n",
       "\n",
       "#sk-container-id-1 label.sk-toggleable__label-arrow:before {\n",
       "  /* Arrow on the left of the label */\n",
       "  content: \"▸\";\n",
       "  float: left;\n",
       "  margin-right: 0.25em;\n",
       "  color: var(--sklearn-color-icon);\n",
       "}\n",
       "\n",
       "#sk-container-id-1 label.sk-toggleable__label-arrow:hover:before {\n",
       "  color: var(--sklearn-color-text);\n",
       "}\n",
       "\n",
       "/* Toggleable content - dropdown */\n",
       "\n",
       "#sk-container-id-1 div.sk-toggleable__content {\n",
       "  max-height: 0;\n",
       "  max-width: 0;\n",
       "  overflow: hidden;\n",
       "  text-align: left;\n",
       "  /* unfitted */\n",
       "  background-color: var(--sklearn-color-unfitted-level-0);\n",
       "}\n",
       "\n",
       "#sk-container-id-1 div.sk-toggleable__content.fitted {\n",
       "  /* fitted */\n",
       "  background-color: var(--sklearn-color-fitted-level-0);\n",
       "}\n",
       "\n",
       "#sk-container-id-1 div.sk-toggleable__content pre {\n",
       "  margin: 0.2em;\n",
       "  border-radius: 0.25em;\n",
       "  color: var(--sklearn-color-text);\n",
       "  /* unfitted */\n",
       "  background-color: var(--sklearn-color-unfitted-level-0);\n",
       "}\n",
       "\n",
       "#sk-container-id-1 div.sk-toggleable__content.fitted pre {\n",
       "  /* unfitted */\n",
       "  background-color: var(--sklearn-color-fitted-level-0);\n",
       "}\n",
       "\n",
       "#sk-container-id-1 input.sk-toggleable__control:checked~div.sk-toggleable__content {\n",
       "  /* Expand drop-down */\n",
       "  max-height: 200px;\n",
       "  max-width: 100%;\n",
       "  overflow: auto;\n",
       "}\n",
       "\n",
       "#sk-container-id-1 input.sk-toggleable__control:checked~label.sk-toggleable__label-arrow:before {\n",
       "  content: \"▾\";\n",
       "}\n",
       "\n",
       "/* Pipeline/ColumnTransformer-specific style */\n",
       "\n",
       "#sk-container-id-1 div.sk-label input.sk-toggleable__control:checked~label.sk-toggleable__label {\n",
       "  color: var(--sklearn-color-text);\n",
       "  background-color: var(--sklearn-color-unfitted-level-2);\n",
       "}\n",
       "\n",
       "#sk-container-id-1 div.sk-label.fitted input.sk-toggleable__control:checked~label.sk-toggleable__label {\n",
       "  background-color: var(--sklearn-color-fitted-level-2);\n",
       "}\n",
       "\n",
       "/* Estimator-specific style */\n",
       "\n",
       "/* Colorize estimator box */\n",
       "#sk-container-id-1 div.sk-estimator input.sk-toggleable__control:checked~label.sk-toggleable__label {\n",
       "  /* unfitted */\n",
       "  background-color: var(--sklearn-color-unfitted-level-2);\n",
       "}\n",
       "\n",
       "#sk-container-id-1 div.sk-estimator.fitted input.sk-toggleable__control:checked~label.sk-toggleable__label {\n",
       "  /* fitted */\n",
       "  background-color: var(--sklearn-color-fitted-level-2);\n",
       "}\n",
       "\n",
       "#sk-container-id-1 div.sk-label label.sk-toggleable__label,\n",
       "#sk-container-id-1 div.sk-label label {\n",
       "  /* The background is the default theme color */\n",
       "  color: var(--sklearn-color-text-on-default-background);\n",
       "}\n",
       "\n",
       "/* On hover, darken the color of the background */\n",
       "#sk-container-id-1 div.sk-label:hover label.sk-toggleable__label {\n",
       "  color: var(--sklearn-color-text);\n",
       "  background-color: var(--sklearn-color-unfitted-level-2);\n",
       "}\n",
       "\n",
       "/* Label box, darken color on hover, fitted */\n",
       "#sk-container-id-1 div.sk-label.fitted:hover label.sk-toggleable__label.fitted {\n",
       "  color: var(--sklearn-color-text);\n",
       "  background-color: var(--sklearn-color-fitted-level-2);\n",
       "}\n",
       "\n",
       "/* Estimator label */\n",
       "\n",
       "#sk-container-id-1 div.sk-label label {\n",
       "  font-family: monospace;\n",
       "  font-weight: bold;\n",
       "  display: inline-block;\n",
       "  line-height: 1.2em;\n",
       "}\n",
       "\n",
       "#sk-container-id-1 div.sk-label-container {\n",
       "  text-align: center;\n",
       "}\n",
       "\n",
       "/* Estimator-specific */\n",
       "#sk-container-id-1 div.sk-estimator {\n",
       "  font-family: monospace;\n",
       "  border: 1px dotted var(--sklearn-color-border-box);\n",
       "  border-radius: 0.25em;\n",
       "  box-sizing: border-box;\n",
       "  margin-bottom: 0.5em;\n",
       "  /* unfitted */\n",
       "  background-color: var(--sklearn-color-unfitted-level-0);\n",
       "}\n",
       "\n",
       "#sk-container-id-1 div.sk-estimator.fitted {\n",
       "  /* fitted */\n",
       "  background-color: var(--sklearn-color-fitted-level-0);\n",
       "}\n",
       "\n",
       "/* on hover */\n",
       "#sk-container-id-1 div.sk-estimator:hover {\n",
       "  /* unfitted */\n",
       "  background-color: var(--sklearn-color-unfitted-level-2);\n",
       "}\n",
       "\n",
       "#sk-container-id-1 div.sk-estimator.fitted:hover {\n",
       "  /* fitted */\n",
       "  background-color: var(--sklearn-color-fitted-level-2);\n",
       "}\n",
       "\n",
       "/* Specification for estimator info (e.g. \"i\" and \"?\") */\n",
       "\n",
       "/* Common style for \"i\" and \"?\" */\n",
       "\n",
       ".sk-estimator-doc-link,\n",
       "a:link.sk-estimator-doc-link,\n",
       "a:visited.sk-estimator-doc-link {\n",
       "  float: right;\n",
       "  font-size: smaller;\n",
       "  line-height: 1em;\n",
       "  font-family: monospace;\n",
       "  background-color: var(--sklearn-color-background);\n",
       "  border-radius: 1em;\n",
       "  height: 1em;\n",
       "  width: 1em;\n",
       "  text-decoration: none !important;\n",
       "  margin-left: 1ex;\n",
       "  /* unfitted */\n",
       "  border: var(--sklearn-color-unfitted-level-1) 1pt solid;\n",
       "  color: var(--sklearn-color-unfitted-level-1);\n",
       "}\n",
       "\n",
       ".sk-estimator-doc-link.fitted,\n",
       "a:link.sk-estimator-doc-link.fitted,\n",
       "a:visited.sk-estimator-doc-link.fitted {\n",
       "  /* fitted */\n",
       "  border: var(--sklearn-color-fitted-level-1) 1pt solid;\n",
       "  color: var(--sklearn-color-fitted-level-1);\n",
       "}\n",
       "\n",
       "/* On hover */\n",
       "div.sk-estimator:hover .sk-estimator-doc-link:hover,\n",
       ".sk-estimator-doc-link:hover,\n",
       "div.sk-label-container:hover .sk-estimator-doc-link:hover,\n",
       ".sk-estimator-doc-link:hover {\n",
       "  /* unfitted */\n",
       "  background-color: var(--sklearn-color-unfitted-level-3);\n",
       "  color: var(--sklearn-color-background);\n",
       "  text-decoration: none;\n",
       "}\n",
       "\n",
       "div.sk-estimator.fitted:hover .sk-estimator-doc-link.fitted:hover,\n",
       ".sk-estimator-doc-link.fitted:hover,\n",
       "div.sk-label-container:hover .sk-estimator-doc-link.fitted:hover,\n",
       ".sk-estimator-doc-link.fitted:hover {\n",
       "  /* fitted */\n",
       "  background-color: var(--sklearn-color-fitted-level-3);\n",
       "  color: var(--sklearn-color-background);\n",
       "  text-decoration: none;\n",
       "}\n",
       "\n",
       "/* Span, style for the box shown on hovering the info icon */\n",
       ".sk-estimator-doc-link span {\n",
       "  display: none;\n",
       "  z-index: 9999;\n",
       "  position: relative;\n",
       "  font-weight: normal;\n",
       "  right: .2ex;\n",
       "  padding: .5ex;\n",
       "  margin: .5ex;\n",
       "  width: min-content;\n",
       "  min-width: 20ex;\n",
       "  max-width: 50ex;\n",
       "  color: var(--sklearn-color-text);\n",
       "  box-shadow: 2pt 2pt 4pt #999;\n",
       "  /* unfitted */\n",
       "  background: var(--sklearn-color-unfitted-level-0);\n",
       "  border: .5pt solid var(--sklearn-color-unfitted-level-3);\n",
       "}\n",
       "\n",
       ".sk-estimator-doc-link.fitted span {\n",
       "  /* fitted */\n",
       "  background: var(--sklearn-color-fitted-level-0);\n",
       "  border: var(--sklearn-color-fitted-level-3);\n",
       "}\n",
       "\n",
       ".sk-estimator-doc-link:hover span {\n",
       "  display: block;\n",
       "}\n",
       "\n",
       "/* \"?\"-specific style due to the `<a>` HTML tag */\n",
       "\n",
       "#sk-container-id-1 a.estimator_doc_link {\n",
       "  float: right;\n",
       "  font-size: 1rem;\n",
       "  line-height: 1em;\n",
       "  font-family: monospace;\n",
       "  background-color: var(--sklearn-color-background);\n",
       "  border-radius: 1rem;\n",
       "  height: 1rem;\n",
       "  width: 1rem;\n",
       "  text-decoration: none;\n",
       "  /* unfitted */\n",
       "  color: var(--sklearn-color-unfitted-level-1);\n",
       "  border: var(--sklearn-color-unfitted-level-1) 1pt solid;\n",
       "}\n",
       "\n",
       "#sk-container-id-1 a.estimator_doc_link.fitted {\n",
       "  /* fitted */\n",
       "  border: var(--sklearn-color-fitted-level-1) 1pt solid;\n",
       "  color: var(--sklearn-color-fitted-level-1);\n",
       "}\n",
       "\n",
       "/* On hover */\n",
       "#sk-container-id-1 a.estimator_doc_link:hover {\n",
       "  /* unfitted */\n",
       "  background-color: var(--sklearn-color-unfitted-level-3);\n",
       "  color: var(--sklearn-color-background);\n",
       "  text-decoration: none;\n",
       "}\n",
       "\n",
       "#sk-container-id-1 a.estimator_doc_link.fitted:hover {\n",
       "  /* fitted */\n",
       "  background-color: var(--sklearn-color-fitted-level-3);\n",
       "}\n",
       "</style><div id=\"sk-container-id-1\" class=\"sk-top-container\"><div class=\"sk-text-repr-fallback\"><pre>RandomForestClassifier(max_depth=15, min_samples_leaf=3, min_samples_split=5,\n",
       "                       n_estimators=200, n_jobs=-1, random_state=42)</pre><b>In a Jupyter environment, please rerun this cell to show the HTML representation or trust the notebook. <br />On GitHub, the HTML representation is unable to render, please try loading this page with nbviewer.org.</b></div><div class=\"sk-container\" hidden><div class=\"sk-item\"><div class=\"sk-estimator fitted sk-toggleable\"><input class=\"sk-toggleable__control sk-hidden--visually\" id=\"sk-estimator-id-1\" type=\"checkbox\" checked><label for=\"sk-estimator-id-1\" class=\"sk-toggleable__label fitted sk-toggleable__label-arrow fitted\">&nbsp;&nbsp;RandomForestClassifier<a class=\"sk-estimator-doc-link fitted\" rel=\"noreferrer\" target=\"_blank\" href=\"https://scikit-learn.org/1.5/modules/generated/sklearn.ensemble.RandomForestClassifier.html\">?<span>Documentation for RandomForestClassifier</span></a><span class=\"sk-estimator-doc-link fitted\">i<span>Fitted</span></span></label><div class=\"sk-toggleable__content fitted\"><pre>RandomForestClassifier(max_depth=15, min_samples_leaf=3, min_samples_split=5,\n",
       "                       n_estimators=200, n_jobs=-1, random_state=42)</pre></div> </div></div></div></div>"
      ],
      "text/plain": [
       "RandomForestClassifier(max_depth=15, min_samples_leaf=3, min_samples_split=5,\n",
       "                       n_estimators=200, n_jobs=-1, random_state=42)"
      ]
     },
     "execution_count": 21,
     "metadata": {},
     "output_type": "execute_result"
    }
   ],
   "source": [
    "import numpy as np\n",
    "from sklearn.ensemble import RandomForestClassifier\n",
    "from sklearn.metrics import classification_report, confusion_matrix\n",
    "from sklearn.model_selection import train_test_split\n",
    "import joblib\n",
    "\n",
    "# Load full data\n",
    "X = np.load(\"C:/Users/Siddharth Tomar/forest-fire-simulation/data/processed/X_train_final.npy\")\n",
    "y = np.load(\"C:/Users/Siddharth Tomar/forest-fire-simulation/data/processed/y_train_final.npy\")\n",
    "\n",
    "# Separate fire and non-fire pixels\n",
    "fire_mask = y == 1\n",
    "nonfire_mask = y == 0\n",
    "\n",
    "X_fire = X[fire_mask]\n",
    "y_fire = y[fire_mask]\n",
    "\n",
    "X_nonfire = X[nonfire_mask]\n",
    "y_nonfire = y[nonfire_mask]\n",
    "\n",
    "# Downsample non-fire to match fire\n",
    "np.random.seed(42)\n",
    "indices = np.random.choice(len(X_nonfire), size=len(X_fire), replace=False)\n",
    "X_nonfire_down = X_nonfire[indices]\n",
    "y_nonfire_down = y_nonfire[indices]\n",
    "\n",
    "# Combine balanced dataset\n",
    "X_balanced = np.vstack([X_fire, X_nonfire_down])\n",
    "y_balanced = np.concatenate([y_fire, y_nonfire_down])\n",
    "\n",
    "# Train-test split (80-20)\n",
    "X_train, X_test, y_train, y_test = train_test_split(X_balanced, y_balanced, test_size=0.2, random_state=42)\n",
    "\n",
    "# Train model with tuned hyperparameters\n",
    "clf = RandomForestClassifier(\n",
    "    n_estimators=200,\n",
    "    max_depth=15,\n",
    "    min_samples_split=5,\n",
    "    min_samples_leaf=3,\n",
    "    random_state=42,\n",
    "    n_jobs=-1\n",
    ")\n",
    "clf.fit(X_train, y_train)\n",
    "\n"
   ]
  },
  {
   "cell_type": "code",
   "execution_count": 22,
   "id": "a64191d6-3d43-46fc-906c-0a48927e6872",
   "metadata": {},
   "outputs": [
    {
     "name": "stdout",
     "output_type": "stream",
     "text": [
      "\n",
      "📈 Classification Report:\n",
      "              precision    recall  f1-score   support\n",
      "\n",
      "           0       0.99      0.38      0.54    367178\n",
      "           1       0.04      0.84      0.08     11957\n",
      "\n",
      "    accuracy                           0.39    379135\n",
      "   macro avg       0.51      0.61      0.31    379135\n",
      "weighted avg       0.96      0.39      0.53    379135\n",
      "\n",
      "\n",
      "🧾 Confusion Matrix:\n",
      "[[137854 229324]\n",
      " [  1942  10015]]\n"
     ]
    }
   ],
   "source": [
    "# Evaluate on original full test set (not balanced)\n",
    "X_full_test = X\n",
    "y_full_test = y\n",
    "y_pred = clf.predict(X_full_test)\n",
    "\n",
    "print(\"\\n📈 Classification Report:\")\n",
    "print(classification_report(y_full_test, y_pred, digits=2))\n",
    "\n",
    "print(\"\\n🧾 Confusion Matrix:\")\n",
    "print(confusion_matrix(y_full_test, y_pred))\n"
   ]
  },
  {
   "cell_type": "code",
   "execution_count": 24,
   "id": "fb8a3fac-0a57-4f0b-b3ab-984583555084",
   "metadata": {},
   "outputs": [
    {
     "name": "stdout",
     "output_type": "stream",
     "text": [
      "\n",
      "Saved: v3 model to disk.\n"
     ]
    }
   ],
   "source": [
    "\n",
    "# ✅ Save model\n",
    "joblib.dump(clf, \"C:/Users/Siddharth Tomar/forest-fire-simulation/model/training/random_forest_v3_downsampled_tuned.pkl\")\n",
    "print(\"\\nSaved: v3 model to disk.\")\n"
   ]
  },
  {
   "cell_type": "markdown",
   "id": "138265b0-9a4c-4987-af39-ead87bb7fa66",
   "metadata": {},
   "source": [
    "# v4 \n",
    "## Highly sensitive — detects 85% of fire pixels but wrongly flags thousands of safe areas as fire-prone"
   ]
  },
  {
   "cell_type": "code",
   "execution_count": 25,
   "id": "3f720ec0-004d-4832-a67b-8400af9e448f",
   "metadata": {},
   "outputs": [
    {
     "name": "stdout",
     "output_type": "stream",
     "text": [
      " Loaded Data\n",
      " Feature shape: (379135, 3)\n",
      " Labels shape: (379135,)\n",
      " Fire pixels: 11957\n",
      " Non-fire pixels: 367178\n"
     ]
    }
   ],
   "source": [
    "#  Import necessary libraries\n",
    "import numpy as np\n",
    "import matplotlib.pyplot as plt\n",
    "import joblib  # For saving model\n",
    "from sklearn.ensemble import RandomForestClassifier\n",
    "from sklearn.metrics import classification_report, confusion_matrix\n",
    "\n",
    "#  Load the feature matrix and labels\n",
    "X = np.load(\"C:/Users/Siddharth Tomar/forest-fire-simulation/data/processed/X_train_final.npy\")\n",
    "y = np.load(\"C:/Users/Siddharth Tomar/forest-fire-simulation/data/processed/y_train_final.npy\")\n",
    "\n",
    "print(\" Loaded Data\")\n",
    "print(\" Feature shape:\", X.shape)\n",
    "print(\" Labels shape:\", y.shape)\n",
    "print(\" Fire pixels:\", np.sum(y == 1))\n",
    "print(\" Non-fire pixels:\", np.sum(y == 0))\n"
   ]
  },
  {
   "cell_type": "code",
   "execution_count": 27,
   "id": "883d4501-f984-44e0-8450-347503ecf39b",
   "metadata": {},
   "outputs": [
    {
     "name": "stdout",
     "output_type": "stream",
     "text": [
      "🚀 Training model v4 (Hybrid)...\n",
      "✅ Model training complete!\n"
     ]
    }
   ],
   "source": [
    "\n",
    "#  Train Random Forest Classifier (v4 - hybrid approach)\n",
    "clf = RandomForestClassifier(\n",
    "    n_estimators=200,             # Number of trees\n",
    "    max_depth=18,                 # Slightly restricted tree depth to prevent overfitting\n",
    "    min_samples_leaf=4,           # Minimum leaf size to add regularization\n",
    "    min_samples_split=5,          # Minimum samples to split node\n",
    "    class_weight='balanced_subsample',  # Dynamic balancing at tree level\n",
    "    n_jobs=-1,                    # Use all CPU cores\n",
    "    random_state=42               # For reproducibility\n",
    ")\n",
    "\n",
    "print(\"🚀 Training model v4 (Hybrid)...\")\n",
    "clf.fit(X, y)\n",
    "print(\"✅ Model training complete!\")\n"
   ]
  },
  {
   "cell_type": "code",
   "execution_count": 28,
   "id": "1cfe38e0-901a-4621-b3cf-65eed7010f4e",
   "metadata": {},
   "outputs": [
    {
     "name": "stdout",
     "output_type": "stream",
     "text": [
      "\n",
      "📈 Classification Report:\n",
      "              precision    recall  f1-score   support\n",
      "\n",
      "           0       0.99      0.58      0.73    367178\n",
      "           1       0.06      0.85      0.12     11957\n",
      "\n",
      "    accuracy                           0.59    379135\n",
      "   macro avg       0.53      0.72      0.43    379135\n",
      "weighted avg       0.96      0.59      0.71    379135\n",
      "\n",
      "\n",
      "🧾 Confusion Matrix:\n",
      "[[213937 153241]\n",
      " [  1757  10200]]\n"
     ]
    }
   ],
   "source": [
    "\n",
    "# 📈 Evaluate the model\n",
    "y_pred = clf.predict(X)\n",
    "\n",
    "print(\"\\n📈 Classification Report:\")\n",
    "print(classification_report(y, y_pred))\n",
    "\n",
    "print(\"\\n🧾 Confusion Matrix:\")\n",
    "print(confusion_matrix(y, y_pred))\n"
   ]
  },
  {
   "cell_type": "code",
   "execution_count": 29,
   "id": "5827cf12-01a7-44a3-a442-990c360b0130",
   "metadata": {},
   "outputs": [
    {
     "name": "stdout",
     "output_type": "stream",
     "text": [
      "✅ Model v4 saved to: C:/Users/Siddharth Tomar/forest-fire-simulation/model/training/model_v4_mixOf_v2&v3.pkl\n"
     ]
    }
   ],
   "source": [
    "\n",
    "# 💾 Save model to disk\n",
    "model_path = \"C:/Users/Siddharth Tomar/forest-fire-simulation/model/training/model_v4_mixOf_v2&v3.pkl\"\n",
    "joblib.dump(clf, model_path)\n",
    "print(f\"✅ Model v4 saved to: {model_path}\")\n"
   ]
  },
  {
   "cell_type": "markdown",
   "id": "0992396f-da0d-4a1a-82ce-a98bb32948e4",
   "metadata": {},
   "source": [
    "# v5\n",
    "## Balanced-aggressive model with high fire recall (~77%) and moderate false positives — best trade-off so far for real fire detection"
   ]
  },
  {
   "cell_type": "code",
   "execution_count": 30,
   "id": "e977a423-aded-45a0-9f0f-0a5ab656bd4f",
   "metadata": {},
   "outputs": [
    {
     "name": "stdout",
     "output_type": "stream",
     "text": [
      "🚀 Training model v5...\n",
      "✅ Training complete!\n"
     ]
    }
   ],
   "source": [
    "# 📦 Import packages\n",
    "from sklearn.ensemble import RandomForestClassifier\n",
    "from sklearn.metrics import classification_report, confusion_matrix\n",
    "import joblib\n",
    "import numpy as np\n",
    "\n",
    "# 📥 Load feature matrix and labels\n",
    "X = np.load(\"C:/Users/Siddharth Tomar/forest-fire-simulation/data/processed/X_train_final.npy\")  # shape: (379135, 3)\n",
    "y = np.load(\"C:/Users/Siddharth Tomar/forest-fire-simulation/data/processed/y_train_final.npy\")  # shape: (379135,)\n",
    "\n",
    "# 🎯 Create and train RandomForestClassifier (v5)\n",
    "clf_v5 = RandomForestClassifier(\n",
    "    n_estimators=300,\n",
    "    max_depth=14,\n",
    "    min_samples_leaf=5,\n",
    "    min_samples_split=10,\n",
    "    class_weight='balanced_subsample',\n",
    "    random_state=42,\n",
    "    n_jobs=-1\n",
    ")\n",
    "\n",
    "print(\"🚀 Training model v5...\")\n",
    "clf_v5.fit(X, y)\n",
    "print(\"✅ Training complete!\")\n"
   ]
  },
  {
   "cell_type": "code",
   "execution_count": 31,
   "id": "4b3ee976-2d7d-4fc8-9430-9f3a2f5ec0dd",
   "metadata": {},
   "outputs": [
    {
     "name": "stdout",
     "output_type": "stream",
     "text": [
      "\n",
      "📈 Classification Report:\n",
      "              precision    recall  f1-score   support\n",
      "\n",
      "           0     0.9868    0.5628    0.7168    367178\n",
      "           1     0.0542    0.7691    0.1012     11957\n",
      "\n",
      "    accuracy                         0.5693    379135\n",
      "   macro avg     0.5205    0.6659    0.4090    379135\n",
      "weighted avg     0.9574    0.5693    0.6974    379135\n",
      "\n",
      "🧾 Confusion Matrix:\n",
      "[[206637 160541]\n",
      " [  2761   9196]]\n"
     ]
    }
   ],
   "source": [
    "\n",
    "# 🧪 Evaluate performance\n",
    "y_pred = clf_v5.predict(X)\n",
    "print(\"\\n📈 Classification Report:\")\n",
    "print(classification_report(y, y_pred, digits=4))\n",
    "\n",
    "print(\"🧾 Confusion Matrix:\")\n",
    "print(confusion_matrix(y, y_pred))\n"
   ]
  },
  {
   "cell_type": "code",
   "execution_count": 32,
   "id": "44aee610-7073-4daa-968e-69d015fcb986",
   "metadata": {},
   "outputs": [
    {
     "name": "stdout",
     "output_type": "stream",
     "text": [
      "💾 Saved model as model_v5.pkl\n"
     ]
    }
   ],
   "source": [
    "\n",
    "# 💾 Save the trained model\n",
    "joblib.dump(clf_v5, \"C:/Users/Siddharth Tomar/forest-fire-simulation/model/training/model_v5_mixOf_v2&v4.pkl\")\n",
    "print(\"💾 Saved model as model_v5.pkl\")\n"
   ]
  },
  {
   "cell_type": "code",
   "execution_count": null,
   "id": "2df2e129-df8d-412e-8917-2c3fa9766f77",
   "metadata": {},
   "outputs": [],
   "source": []
  }
 ],
 "metadata": {
  "kernelspec": {
   "display_name": "Python 3 (ipykernel)",
   "language": "python",
   "name": "python3"
  },
  "language_info": {
   "codemirror_mode": {
    "name": "ipython",
    "version": 3
   },
   "file_extension": ".py",
   "mimetype": "text/x-python",
   "name": "python",
   "nbconvert_exporter": "python",
   "pygments_lexer": "ipython3",
   "version": "3.12.7"
  }
 },
 "nbformat": 4,
 "nbformat_minor": 5
}
