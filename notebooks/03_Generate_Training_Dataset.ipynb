{
 "cells": [
  {
   "cell_type": "code",
   "execution_count": 1,
   "id": "16ddb0e7-3057-4814-af1f-795d43c7244d",
   "metadata": {},
   "outputs": [],
   "source": [
    "import numpy as np\n",
    "import os\n"
   ]
  },
  {
   "cell_type": "code",
   "execution_count": 6,
   "id": "72ebaa33-590e-4f3c-bb62-a01b45148468",
   "metadata": {},
   "outputs": [],
   "source": [
    "# Paths to your processed data folder\n",
    "processed_folder = 'C:/Users/Siddharth Tomar/forest-fire-simulation/data/processed'"
   ]
  },
  {
   "cell_type": "code",
   "execution_count": 7,
   "id": "9f7429ce-b2e1-44db-909a-1dc9d8f42e4f",
   "metadata": {},
   "outputs": [],
   "source": [
    "# Load the input rasters (already preprocessed & aligned)\n",
    "dem = np.load(os.path.join(processed_folder, 'dem.npy'))        # DEM values\n",
    "slope = np.load(os.path.join(processed_folder, 'slope.npy'))    # Slope values\n",
    "aspect = np.load(os.path.join(processed_folder, 'aspect.npy'))  # Aspect values\n"
   ]
  },
  {
   "cell_type": "code",
   "execution_count": 8,
   "id": "d909e4d7-2fbe-4f07-8d2c-c71dca7936a1",
   "metadata": {},
   "outputs": [],
   "source": [
    "# Load the buffered fire label mask (800m version)\n",
    "fire_mask = np.load(os.path.join(processed_folder, 'firepack_buffered.npy'))  # shape (H, W)\n"
   ]
  },
  {
   "cell_type": "code",
   "execution_count": 9,
   "id": "49a13fce-b686-4471-a5c9-3e159ee456de",
   "metadata": {},
   "outputs": [],
   "source": [
    "# Check all shapes match\n",
    "assert dem.shape == slope.shape == aspect.shape == fire_mask.shape, \"❌ Input arrays must be same shape!\"\n"
   ]
  },
  {
   "cell_type": "code",
   "execution_count": 10,
   "id": "b8c365fe-a0d5-4b75-8a5e-c285ad08a5ce",
   "metadata": {},
   "outputs": [],
   "source": [
    "# Flatten all arrays into 1D\n",
    "dem_flat = dem.flatten()\n",
    "slope_flat = slope.flatten()\n",
    "aspect_flat = aspect.flatten()\n",
    "label_flat = fire_mask.flatten()"
   ]
  },
  {
   "cell_type": "code",
   "execution_count": 11,
   "id": "966565a2-58f8-4bf1-9078-17aed59f9a4e",
   "metadata": {},
   "outputs": [],
   "source": [
    "#  Remove NaNs: mask only pixels with valid data in all 3 input layers\n",
    "valid_mask = ~np.isnan(dem_flat) & ~np.isnan(slope_flat) & ~np.isnan(aspect_flat)\n",
    "\n",
    "#  Filter features and labels\n",
    "X = np.stack([dem_flat[valid_mask], slope_flat[valid_mask], aspect_flat[valid_mask]], axis=1)\n",
    "y = label_flat[valid_mask].astype(np.uint8)\n"
   ]
  },
  {
   "cell_type": "code",
   "execution_count": 12,
   "id": "5c7d5052-531b-4a7b-9914-d450a26af538",
   "metadata": {},
   "outputs": [],
   "source": [
    "# Save outputs\n",
    "np.save(os.path.join(processed_folder, 'X_train_final.npy'), X)\n",
    "np.save(os.path.join(processed_folder, 'y_train_final.npy'), y)\n"
   ]
  },
  {
   "cell_type": "code",
   "execution_count": 13,
   "id": "6e5a4799-f638-4559-b9ec-59ed2786b550",
   "metadata": {},
   "outputs": [
    {
     "name": "stdout",
     "output_type": "stream",
     "text": [
      "✅ Saved to C:/Users/Siddharth Tomar/forest-fire-simulation/data/processed/X_train_final.npy and y_train_final.npy\n",
      "📐 Feature matrix shape: (379135, 3)\n",
      "🎯 Fire pixels: 11957\n",
      "🌲 Non-fire pixels: 367178\n"
     ]
    }
   ],
   "source": [
    "# Summary\n",
    "print(f\"✅ Saved to {processed_folder}/X_train_final.npy and y_train_final.npy\")\n",
    "print(f\"📐 Feature matrix shape: {X.shape}\")\n",
    "print(f\"🎯 Fire pixels: {np.count_nonzero(y)}\")\n",
    "print(f\"🌲 Non-fire pixels: {len(y) - np.count_nonzero(y)}\")"
   ]
  },
  {
   "cell_type": "code",
   "execution_count": null,
   "id": "ad3aaa71-f1af-477d-a249-38fee83ae3c1",
   "metadata": {},
   "outputs": [],
   "source": []
  }
 ],
 "metadata": {
  "kernelspec": {
   "display_name": "Python 3 (ipykernel)",
   "language": "python",
   "name": "python3"
  },
  "language_info": {
   "codemirror_mode": {
    "name": "ipython",
    "version": 3
   },
   "file_extension": ".py",
   "mimetype": "text/x-python",
   "name": "python",
   "nbconvert_exporter": "python",
   "pygments_lexer": "ipython3",
   "version": "3.12.7"
  }
 },
 "nbformat": 4,
 "nbformat_minor": 5
}
